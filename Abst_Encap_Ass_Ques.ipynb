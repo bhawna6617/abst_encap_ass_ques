{
 "cells": [
  {
   "cell_type": "markdown",
   "id": "a238fe69",
   "metadata": {},
   "source": [
    "# question 1"
   ]
  },
  {
   "cell_type": "code",
   "execution_count": 8,
   "id": "32a6de3b",
   "metadata": {},
   "outputs": [
    {
     "name": "stdout",
     "output_type": "stream",
     "text": [
      "Jack Matte\n",
      "Bakers street, London HUAPK29971 01-777-523-342\n",
      "Chinese Python Programming A+\n"
     ]
    }
   ],
   "source": [
    "# abstraction = Abstraction is the process of hiding the internal details of an application from the outer world. Abstraction is used to describe things in simple terms.\n",
    "\n",
    "\n",
    "#example =\n",
    "\n",
    "class Person:\n",
    "    def __init__(self):\n",
    "        self.name = \"Jack Matte\"\n",
    "\n",
    "    def bio(self):\n",
    "        self.addr = \"Bakers street, London\"\n",
    "        self.taxInfo = \"HUAPK29971\"\n",
    "        self.contact = \"01-777-523-342\"\n",
    "        print(self.addr, self.taxInfo, self.contact)\n",
    "\n",
    "    def interest(self):\n",
    "        self.favFood = \"Chinese\"\n",
    "        self.hobbies = \"Python Programming\"\n",
    "        self.bloodGroup = \"A+\"\n",
    "        print(self.favFood, self.hobbies, self.bloodGroup)\n",
    "\n",
    "obj = Person()\n",
    "print(obj.name)\n",
    "obj.bio()\n",
    "obj.interest()\n"
   ]
  },
  {
   "cell_type": "markdown",
   "id": "2ab49eee",
   "metadata": {},
   "source": [
    "# question 2"
   ]
  },
  {
   "cell_type": "code",
   "execution_count": null,
   "id": "9570e3ae",
   "metadata": {},
   "outputs": [],
   "source": [
    "# abstractionn = Abstraction is defined as a process of hiding the implementation details of a system from the user.\n",
    "\n",
    "# 1.It is the process of gaining information\n",
    "# 2.The problems in this technique are solved at the interface level.\n",
    "#3.It helps hide the unwanted details/information.\n",
    "#4.It can be implemented using abstract classes and interfaces.\n",
    "\n",
    "\n",
    "\n",
    "# Encapsulation = Encapsulation is one of the fundamental OOP concepts. Encapsulation is defined as a method by which data wrapping is done into a single unit.\n",
    "\n",
    "# 1. it is a method that helps wrap up data into a single module.\n",
    "# 2. Problems in encapsulation are solved at the implementation level.\n",
    "# 3. It helps hide data using a single entity, or using a unit with the help of method that helps protect the information."
   ]
  },
  {
   "cell_type": "code",
   "execution_count": 2,
   "id": "d3c3cbb9",
   "metadata": {},
   "outputs": [],
   "source": [
    "# example of encapsuation\n",
    "\n",
    "class bank:\n",
    "    \n",
    "    def __init__(self ,balance):\n",
    "        self.__balance = balance\n",
    "        \n",
    "    def dp(self, amount):\n",
    "        self.__balance = self.__balance + amount\n",
    "        \n",
    "    def withdrow(self , amount):\n",
    "        if  self.__balance >= amount :\n",
    "            self.__balance = self.__balance -amount\n",
    "            return True\n",
    "        else :\n",
    "             return False\n",
    "            \n",
    "    def get_balance(self):\n",
    "        \n",
    "        return self.__balance\n",
    "\n"
   ]
  },
  {
   "cell_type": "code",
   "execution_count": 3,
   "id": "092ec360",
   "metadata": {},
   "outputs": [],
   "source": [
    "aayu = bank(1000)"
   ]
  },
  {
   "cell_type": "code",
   "execution_count": 4,
   "id": "2849c4e7",
   "metadata": {},
   "outputs": [
    {
     "data": {
      "text/plain": [
       "1000"
      ]
     },
     "execution_count": 4,
     "metadata": {},
     "output_type": "execute_result"
    }
   ],
   "source": [
    "aayu.get_balance()"
   ]
  },
  {
   "cell_type": "code",
   "execution_count": 6,
   "id": "26f6faec",
   "metadata": {},
   "outputs": [],
   "source": [
    "aayu.dp(3000)"
   ]
  },
  {
   "cell_type": "code",
   "execution_count": 7,
   "id": "f68350a9",
   "metadata": {},
   "outputs": [
    {
     "data": {
      "text/plain": [
       "4000"
      ]
     },
     "execution_count": 7,
     "metadata": {},
     "output_type": "execute_result"
    }
   ],
   "source": [
    "aayu.get_balance()"
   ]
  },
  {
   "cell_type": "markdown",
   "id": "5935faaf",
   "metadata": {},
   "source": [
    "# question 3"
   ]
  },
  {
   "cell_type": "code",
   "execution_count": 9,
   "id": "bb156880",
   "metadata": {},
   "outputs": [],
   "source": [
    "\n",
    "#The \"abc\" module in Python stands for \"Abstract Base Classes.\" It is a module that provides infrastructure for defining abstract base classes in Python.\n",
    "\n",
    "#Abstract base classes are classes that define a common interface for a group of related classes. They define the expected methods and properties that derived classes must implement.\n",
    "\n",
    "\n",
    "#Here are a few reasons why the \"abc\" module is used:\n",
    "\n",
    "#Encourages interface consistency: Abstract base classes help in enforcing a consistent interface across multiple derived classes. By defining the expected methods and properties as abstract, you ensure that all derived classes implement them in a standardized way.\n",
    "\n",
    "# 1.Polymorphism: Abstract base classes facilitate polymorphism by allowing you to write code that operates on abstract types rather than specific implementations. This makes your code more flexible and reusable.\n",
    "\n",
    "# 2.Documentation and design: Abstract base classes serve as a form of documentation and communicate the expected interface and behavior to other developers. They help in designing class hierarchies and provide a blueprint for derived classes.\n",
    "\n",
    "# 3.Runtime checks: The \"abc\" module also provides mechanisms for runtime checks on class hierarchies. For example, you can use the isinstance() function to check if an object is an instance of a specific abstract base class or its subclasses.\n",
    "\n",
    "#Overall, the \"abc\" module in Python is used to define and work with abstract base classes, promoting interface consistency, polymorphism, and providing runtime checks. It is a useful tool for designing class hierarchies and building robust and maintainable code.\n",
    "\n",
    "\n",
    "\n",
    "\n",
    "\n",
    "\n"
   ]
  },
  {
   "cell_type": "markdown",
   "id": "d5f42edf",
   "metadata": {},
   "source": [
    "#  question 4"
   ]
  },
  {
   "cell_type": "code",
   "execution_count": 10,
   "id": "b3e455cb",
   "metadata": {},
   "outputs": [],
   "source": [
    "# In Python, you can achieve data abstraction through the use of classes and objects. Data abstraction is a programming principle that focuses on exposing essential features and hiding unnecessary details of a data type or class.\n",
    "\n",
    "\n",
    "#Here are the steps to achieve data abstraction in Python:\n",
    "\n",
    "# 1.Define a class: Create a class that represents the abstraction you want to achieve. The class should encapsulate the data and operations related to the abstraction.\n",
    "\n",
    "# 2.Hide internal details: Encapsulate the internal data and implementation details of the class by using access modifiers such as private variables and methods. In Python, you can prefix an attribute or method name with a double underscore (__) to make it private.\n",
    "\n",
    "# 3.Define a public interface: Determine the essential methods and attributes that should be accessible to users of the class. These are the public interface of the class that exposes the necessary functionality and hides the implementation details. Define them as public methods and attributes.\n",
    "\n",
    "# 4.Implement the public interface: Write the code for the public methods and attributes that provide the desired functionality. These methods should interact with the internal data and perform the necessary operations.\n",
    "\n",
    "# 5.Hide unnecessary details: Remove or hide any unnecessary methods, attributes, or implementation details that are not part of the public interface. By doing so, you simplify the usage of the abstraction and reduce complexity.\n",
    "\n",
    "# 6.Encourage usage of the public interface: Document and promote the use of the public interface. Encourage users of the class to interact with the abstraction through the defined public methods and attributes. This promotes a clear separation between the interface and implementation.\n",
    "\n"
   ]
  },
  {
   "cell_type": "markdown",
   "id": "5d37fcb9",
   "metadata": {},
   "source": [
    "# question 5"
   ]
  },
  {
   "cell_type": "code",
   "execution_count": 11,
   "id": "11e220ff",
   "metadata": {},
   "outputs": [],
   "source": [
    "# No, we cannot create an instance of an abstract class in Python. Abstract classes are meant to be subclasses and serve as blueprints for derived classes. They define the common interface and structure that derived classes should adhere to.\n",
    "\n",
    "#In Python, abstract classes are created using the ABC class from the \"abc\" module or by using the @abc.abstractmethod decorator to mark methods as abstract within the class. Abstract methods are defined but not implemented in the abstract class."
   ]
  },
  {
   "cell_type": "code",
   "execution_count": 12,
   "id": "8cc36678",
   "metadata": {},
   "outputs": [
    {
     "ename": "NameError",
     "evalue": "name 'abstractmethod' is not defined",
     "output_type": "error",
     "traceback": [
      "\u001b[1;31m---------------------------------------------------------------------------\u001b[0m",
      "\u001b[1;31mNameError\u001b[0m                                 Traceback (most recent call last)",
      "Cell \u001b[1;32mIn[12], line 5\u001b[0m\n\u001b[0;32m      1\u001b[0m \u001b[38;5;66;03m# example\u001b[39;00m\n\u001b[0;32m      3\u001b[0m \u001b[38;5;28;01mfrom\u001b[39;00m \u001b[38;5;21;01mabc\u001b[39;00m \u001b[38;5;28;01mimport\u001b[39;00m ABC\n\u001b[1;32m----> 5\u001b[0m \u001b[38;5;28;43;01mclass\u001b[39;49;00m\u001b[43m \u001b[49m\u001b[38;5;21;43;01mMyAbstractClass\u001b[39;49;00m\u001b[43m(\u001b[49m\u001b[43mABC\u001b[49m\u001b[43m)\u001b[49m\u001b[43m:\u001b[49m\n\u001b[0;32m      6\u001b[0m \u001b[43m    \u001b[49m\u001b[38;5;129;43m@abstractmethod\u001b[39;49m\n\u001b[0;32m      7\u001b[0m \u001b[43m    \u001b[49m\u001b[38;5;28;43;01mdef\u001b[39;49;00m\u001b[43m \u001b[49m\u001b[38;5;21;43mmy_abstract_method\u001b[39;49m\u001b[43m(\u001b[49m\u001b[38;5;28;43mself\u001b[39;49m\u001b[43m)\u001b[49m\u001b[43m:\u001b[49m\n\u001b[0;32m      8\u001b[0m \u001b[43m        \u001b[49m\u001b[38;5;28;43;01mpass\u001b[39;49;00m\n",
      "Cell \u001b[1;32mIn[12], line 6\u001b[0m, in \u001b[0;36mMyAbstractClass\u001b[1;34m()\u001b[0m\n\u001b[0;32m      5\u001b[0m \u001b[38;5;28;01mclass\u001b[39;00m \u001b[38;5;21;01mMyAbstractClass\u001b[39;00m(ABC):\n\u001b[1;32m----> 6\u001b[0m     \u001b[38;5;129m@abstractmethod\u001b[39m\n\u001b[0;32m      7\u001b[0m     \u001b[38;5;28;01mdef\u001b[39;00m \u001b[38;5;21mmy_abstract_method\u001b[39m(\u001b[38;5;28mself\u001b[39m):\n\u001b[0;32m      8\u001b[0m         \u001b[38;5;28;01mpass\u001b[39;00m\n",
      "\u001b[1;31mNameError\u001b[0m: name 'abstractmethod' is not defined"
     ]
    }
   ],
   "source": [
    "# example\n",
    "\n",
    "from abc import ABC\n",
    "\n",
    "class MyAbstractClass(ABC):\n",
    "    @abstractmethod\n",
    "    def my_abstract_method(self):\n",
    "        pass\n",
    "\n",
    "my_instance = MyAbstractClass()  # Raises TypeError\n"
   ]
  },
  {
   "cell_type": "code",
   "execution_count": null,
   "id": "508f8729",
   "metadata": {},
   "outputs": [],
   "source": [
    "# sAttempting to create an instance of MyAbstractClass will result in a TypeError. "
   ]
  }
 ],
 "metadata": {
  "kernelspec": {
   "display_name": "Python 3 (ipykernel)",
   "language": "python",
   "name": "python3"
  },
  "language_info": {
   "codemirror_mode": {
    "name": "ipython",
    "version": 3
   },
   "file_extension": ".py",
   "mimetype": "text/x-python",
   "name": "python",
   "nbconvert_exporter": "python",
   "pygments_lexer": "ipython3",
   "version": "3.11.3"
  }
 },
 "nbformat": 4,
 "nbformat_minor": 5
}
